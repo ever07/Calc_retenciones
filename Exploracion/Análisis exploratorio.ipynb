{
  "cells": [
    {
      "cell_type": "markdown",
      "metadata": {
        "id": "vXvAu1d2BYzW"
      },
      "source": [
        "**ANÁLISIS EXPLORATORIO DE DATOS RSM**\n",
        "\n",
        "---\n"
      ]
    },
    {
      "cell_type": "code",
      "execution_count": 1,
      "metadata": {
        "id": "NKdFN1pmBYzZ"
      },
      "outputs": [],
      "source": [
        "import pandas as pd\n",
        "import matplotlib.pyplot as plt"
      ]
    },
    {
      "cell_type": "markdown",
      "source": [
        "Importación de datos desde archivo csv almacenado en repositorio de Github"
      ],
      "metadata": {
        "id": "eYUHE63RFaGb"
      }
    },
    {
      "cell_type": "code",
      "source": [
        "url = \"https://raw.githubusercontent.com/GEISSNA/Grupo-3-DAJ10-TRABAJO-FINAL/main/Exploracion/consolidado.csv\"\n",
        "data = pd.read_csv(url)"
      ],
      "metadata": {
        "id": "Qc3Aeo9BFswE"
      },
      "execution_count": 3,
      "outputs": []
    },
    {
      "cell_type": "markdown",
      "source": [
        "**Metricas de ventas**"
      ],
      "metadata": {
        "id": "tDn8Lbq2KCXi"
      }
    },
    {
      "cell_type": "markdown",
      "source": [
        "Ventas totales"
      ],
      "metadata": {
        "id": "eP7P7KAlKkPD"
      }
    },
    {
      "cell_type": "code",
      "source": [
        "total = data['Venta Total'].sum()\n",
        "print(total)"
      ],
      "metadata": {
        "id": "COXzEux6Kn5T",
        "outputId": "df2bfe24-10b5-4de5-a162-74fd6a4546e7",
        "colab": {
          "base_uri": "https://localhost:8080/"
        }
      },
      "execution_count": 5,
      "outputs": [
        {
          "output_type": "stream",
          "name": "stdout",
          "text": [
            "4600795.36\n"
          ]
        }
      ]
    },
    {
      "cell_type": "code",
      "source": [
        "describe = data['Venta Total'].describe()\n",
        "print(describe)"
      ],
      "metadata": {
        "id": "6cF9jL3NLiR6",
        "outputId": "a0bb83e0-4f57-4435-a395-917c5531ec6b",
        "colab": {
          "base_uri": "https://localhost:8080/"
        }
      },
      "execution_count": 6,
      "outputs": [
        {
          "output_type": "stream",
          "name": "stdout",
          "text": [
            "count     1000.000000\n",
            "mean      4600.795360\n",
            "std       3886.511139\n",
            "min         36.840000\n",
            "25%       1477.990000\n",
            "50%       3556.480000\n",
            "75%       6937.800000\n",
            "max      17767.710000\n",
            "Name: Venta Total, dtype: float64\n"
          ]
        }
      ]
    }
  ],
  "metadata": {
    "kernelspec": {
      "display_name": "Python 3",
      "language": "python",
      "name": "python3"
    },
    "language_info": {
      "codemirror_mode": {
        "name": "ipython",
        "version": 3
      },
      "file_extension": ".py",
      "mimetype": "text/x-python",
      "name": "python",
      "nbconvert_exporter": "python",
      "pygments_lexer": "ipython3",
      "version": "3.13.0"
    },
    "colab": {
      "provenance": [],
      "toc_visible": true
    }
  },
  "nbformat": 4,
  "nbformat_minor": 0
}