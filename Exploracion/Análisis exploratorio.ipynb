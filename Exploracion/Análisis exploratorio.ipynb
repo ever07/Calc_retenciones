{
  "cells": [
    {
      "cell_type": "markdown",
      "metadata": {
        "id": "vXvAu1d2BYzW"
      },
      "source": [
        "**ANÁLISIS EXPLORATORIO DE DATOS RSM**\n",
        "\n",
        "---\n"
      ]
    },
    {
      "cell_type": "code",
      "execution_count": 1,
      "metadata": {
        "id": "NKdFN1pmBYzZ"
      },
      "outputs": [],
      "source": [
        "import pandas as pd\n",
        "import matplotlib.pyplot as plt"
      ]
    },
    {
      "cell_type": "markdown",
      "source": [
        "Importación de datos desde archivo csv almacenado en repositorio de Github"
      ],
      "metadata": {
        "id": "eYUHE63RFaGb"
      }
    },
    {
      "cell_type": "code",
      "source": [
        "url = \"https://raw.githubusercontent.com/GEISSNA/Grupo-3-DAJ10-TRABAJO-FINAL/main/Exploracion/consolidado.csv\"\n",
        "data = pd.read_csv(url)"
      ],
      "metadata": {
        "id": "Qc3Aeo9BFswE"
      },
      "execution_count": 3,
      "outputs": []
    },
    {
      "cell_type": "markdown",
      "source": [
        "**Metricas de ventas**"
      ],
      "metadata": {
        "id": "tDn8Lbq2KCXi"
      }
    },
    {
      "cell_type": "markdown",
      "source": [
        "Ventas totales"
      ],
      "metadata": {
        "id": "eP7P7KAlKkPD"
      }
    },
    {
      "cell_type": "code",
      "source": [
        "total = data['Venta Total'].sum()\n",
        "print(total)"
      ],
      "metadata": {
        "colab": {
          "base_uri": "https://localhost:8080/"
        },
        "id": "COXzEux6Kn5T",
        "outputId": "df2bfe24-10b5-4de5-a162-74fd6a4546e7"
      },
      "execution_count": 5,
      "outputs": [
        {
          "output_type": "stream",
          "name": "stdout",
          "text": [
            "4600795.36\n"
          ]
        }
      ]
    },
    {
      "cell_type": "code",
      "source": [
        "describe = data['Venta Total'].describe()\n",
        "print(describe)"
      ],
      "metadata": {
        "colab": {
          "base_uri": "https://localhost:8080/"
        },
        "id": "6cF9jL3NLiR6",
        "outputId": "a0bb83e0-4f57-4435-a395-917c5531ec6b"
      },
      "execution_count": 6,
      "outputs": [
        {
          "output_type": "stream",
          "name": "stdout",
          "text": [
            "count     1000.000000\n",
            "mean      4600.795360\n",
            "std       3886.511139\n",
            "min         36.840000\n",
            "25%       1477.990000\n",
            "50%       3556.480000\n",
            "75%       6937.800000\n",
            "max      17767.710000\n",
            "Name: Venta Total, dtype: float64\n"
          ]
        }
      ]
    },
    {
      "cell_type": "markdown",
      "source": [
        "**Número de ventas por Región**"
      ],
      "metadata": {
        "id": "qSxDsv8XR0u1"
      }
    },
    {
      "cell_type": "code",
      "source": [
        "vxregion = data.groupby('Region')['Venta Total'].count()\n",
        "print(vxregion)"
      ],
      "metadata": {
        "id": "VjlpoUZbSIT-",
        "outputId": "37947c39-1e63-4a86-9a10-d7b226014ce2",
        "colab": {
          "base_uri": "https://localhost:8080/"
        }
      },
      "execution_count": 7,
      "outputs": [
        {
          "output_type": "stream",
          "name": "stdout",
          "text": [
            "Region\n",
            "Este     258\n",
            "Norte    240\n",
            "Oeste    259\n",
            "Sur      243\n",
            "Name: Venta Total, dtype: int64\n"
          ]
        }
      ]
    },
    {
      "cell_type": "code",
      "source": [
        "regionBar = vxregion.plot(kind='bar')\n",
        "plt.show()"
      ],
      "metadata": {
        "id": "hyx9wncmS3ut",
        "outputId": "b3901765-f485-412a-d4a6-d32265ef8c6f",
        "colab": {
          "base_uri": "https://localhost:8080/",
          "height": 430
        }
      },
      "execution_count": 9,
      "outputs": [
        {
          "output_type": "display_data",
          "data": {
            "text/plain": [
              "<Figure size 640x480 with 1 Axes>"
            ],
            "image/png": "[encoded data removed]"
          },
          "metadata": {}
        }
      ]
    }
  ],
  "metadata": {
    "kernelspec": {
      "display_name": "Python 3",
      "language": "python",
      "name": "python3"
    },
    "language_info": {
      "codemirror_mode": {
        "name": "ipython",
        "version": 3
      },
      "file_extension": ".py",
      "mimetype": "text/x-python",
      "name": "python",
      "nbconvert_exporter": "python",
      "pygments_lexer": "ipython3",
      "version": "3.13.0"
    },
    "colab": {
      "provenance": [],
      "toc_visible": true
    }
  },
  "nbformat": 4,
  "nbformat_minor": 0
}